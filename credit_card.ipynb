{
 "cells": [
  {
   "cell_type": "markdown",
   "id": "7e5b27cd",
   "metadata": {},
   "source": [
    "<h2> Trabalho prático III: Detecção de fraude em cartões de crédito utilizando modelos de classificação.<h2>"
   ]
  },
  {
   "cell_type": "markdown",
   "id": "12e86de9",
   "metadata": {},
   "source": [
    "<h3> 1. Introdução</h3>"
   ]
  },
  {
   "cell_type": "markdown",
   "id": "6a0f2ea3",
   "metadata": {},
   "source": [
    "<p> O conjunto de dados selecionado é referente ao histórico de fraudes em cartões de crédito de uma determinada empresa. O objetivo é determinar se alguma atividade do cartão é referente a alguma fraude ou não a partir de modelos de classificação, em seguida, avaliar os resultados.</p>"
   ]
  },
  {
   "cell_type": "code",
   "execution_count": 33,
   "id": "c3f1211b",
   "metadata": {},
   "outputs": [],
   "source": [
    "import numpy as np\n",
    "import pandas as pd\n",
    "\n",
    "import seaborn as sns\n",
    "import matplotlib.pyplot as plt\n",
    "\n",
    "import sklearn\n",
    "%matplotlib inline\n",
    "\n",
    "from sklearn.model_selection import train_test_split\n",
    "from sklearn.metrics import accuracy_score, confusion_matrix, classification_report\n",
    "from sklearn.inspection import permutation_importance\n",
    "\n",
    "from sklearn.preprocessing import StandardScaler\n",
    "from sklearn.neighbors import KNeighborsClassifier\n",
    "from sklearn.model_selection import cross_val_score, KFold\n",
    "\n",
    "from sklearn.tree import DecisionTreeClassifier, plot_tree\n",
    "\n",
    "from sklearn.preprocessing import OneHotEncoder\n",
    "from sklearn.preprocessing import RobustScaler\n",
    "from sklearn.naive_bayes import GaussianNB\n",
    "from sklearn.naive_bayes import MultinomialNB\n",
    "from sklearn.naive_bayes import BernoulliNB"
   ]
  },
  {
   "cell_type": "code",
   "execution_count": 34,
   "id": "733b3ed7",
   "metadata": {
    "scrolled": true
   },
   "outputs": [
    {
     "data": {
      "text/html": [
       "<div>\n",
       "<style scoped>\n",
       "    .dataframe tbody tr th:only-of-type {\n",
       "        vertical-align: middle;\n",
       "    }\n",
       "\n",
       "    .dataframe tbody tr th {\n",
       "        vertical-align: top;\n",
       "    }\n",
       "\n",
       "    .dataframe thead th {\n",
       "        text-align: right;\n",
       "    }\n",
       "</style>\n",
       "<table border=\"1\" class=\"dataframe\">\n",
       "  <thead>\n",
       "    <tr style=\"text-align: right;\">\n",
       "      <th></th>\n",
       "      <th>distance_from_home</th>\n",
       "      <th>distance_from_last_transaction</th>\n",
       "      <th>ratio_to_median_purchase_price</th>\n",
       "      <th>repeat_retailer</th>\n",
       "      <th>used_chip</th>\n",
       "      <th>used_pin_number</th>\n",
       "      <th>online_order</th>\n",
       "      <th>fraud</th>\n",
       "    </tr>\n",
       "  </thead>\n",
       "  <tbody>\n",
       "    <tr>\n",
       "      <th>0</th>\n",
       "      <td>57.877857</td>\n",
       "      <td>0.311140</td>\n",
       "      <td>1.945940</td>\n",
       "      <td>1.0</td>\n",
       "      <td>1.0</td>\n",
       "      <td>0.0</td>\n",
       "      <td>0.0</td>\n",
       "      <td>0.0</td>\n",
       "    </tr>\n",
       "    <tr>\n",
       "      <th>1</th>\n",
       "      <td>10.829943</td>\n",
       "      <td>0.175592</td>\n",
       "      <td>1.294219</td>\n",
       "      <td>1.0</td>\n",
       "      <td>0.0</td>\n",
       "      <td>0.0</td>\n",
       "      <td>0.0</td>\n",
       "      <td>0.0</td>\n",
       "    </tr>\n",
       "    <tr>\n",
       "      <th>2</th>\n",
       "      <td>5.091079</td>\n",
       "      <td>0.805153</td>\n",
       "      <td>0.427715</td>\n",
       "      <td>1.0</td>\n",
       "      <td>0.0</td>\n",
       "      <td>0.0</td>\n",
       "      <td>1.0</td>\n",
       "      <td>0.0</td>\n",
       "    </tr>\n",
       "    <tr>\n",
       "      <th>3</th>\n",
       "      <td>2.247564</td>\n",
       "      <td>5.600044</td>\n",
       "      <td>0.362663</td>\n",
       "      <td>1.0</td>\n",
       "      <td>1.0</td>\n",
       "      <td>0.0</td>\n",
       "      <td>1.0</td>\n",
       "      <td>0.0</td>\n",
       "    </tr>\n",
       "    <tr>\n",
       "      <th>4</th>\n",
       "      <td>44.190936</td>\n",
       "      <td>0.566486</td>\n",
       "      <td>2.222767</td>\n",
       "      <td>1.0</td>\n",
       "      <td>1.0</td>\n",
       "      <td>0.0</td>\n",
       "      <td>1.0</td>\n",
       "      <td>0.0</td>\n",
       "    </tr>\n",
       "    <tr>\n",
       "      <th>...</th>\n",
       "      <td>...</td>\n",
       "      <td>...</td>\n",
       "      <td>...</td>\n",
       "      <td>...</td>\n",
       "      <td>...</td>\n",
       "      <td>...</td>\n",
       "      <td>...</td>\n",
       "      <td>...</td>\n",
       "    </tr>\n",
       "    <tr>\n",
       "      <th>999995</th>\n",
       "      <td>2.207101</td>\n",
       "      <td>0.112651</td>\n",
       "      <td>1.626798</td>\n",
       "      <td>1.0</td>\n",
       "      <td>1.0</td>\n",
       "      <td>0.0</td>\n",
       "      <td>0.0</td>\n",
       "      <td>0.0</td>\n",
       "    </tr>\n",
       "    <tr>\n",
       "      <th>999996</th>\n",
       "      <td>19.872726</td>\n",
       "      <td>2.683904</td>\n",
       "      <td>2.778303</td>\n",
       "      <td>1.0</td>\n",
       "      <td>1.0</td>\n",
       "      <td>0.0</td>\n",
       "      <td>0.0</td>\n",
       "      <td>0.0</td>\n",
       "    </tr>\n",
       "    <tr>\n",
       "      <th>999997</th>\n",
       "      <td>2.914857</td>\n",
       "      <td>1.472687</td>\n",
       "      <td>0.218075</td>\n",
       "      <td>1.0</td>\n",
       "      <td>1.0</td>\n",
       "      <td>0.0</td>\n",
       "      <td>1.0</td>\n",
       "      <td>0.0</td>\n",
       "    </tr>\n",
       "    <tr>\n",
       "      <th>999998</th>\n",
       "      <td>4.258729</td>\n",
       "      <td>0.242023</td>\n",
       "      <td>0.475822</td>\n",
       "      <td>1.0</td>\n",
       "      <td>0.0</td>\n",
       "      <td>0.0</td>\n",
       "      <td>1.0</td>\n",
       "      <td>0.0</td>\n",
       "    </tr>\n",
       "    <tr>\n",
       "      <th>999999</th>\n",
       "      <td>58.108125</td>\n",
       "      <td>0.318110</td>\n",
       "      <td>0.386920</td>\n",
       "      <td>1.0</td>\n",
       "      <td>1.0</td>\n",
       "      <td>0.0</td>\n",
       "      <td>1.0</td>\n",
       "      <td>0.0</td>\n",
       "    </tr>\n",
       "  </tbody>\n",
       "</table>\n",
       "<p>1000000 rows × 8 columns</p>\n",
       "</div>"
      ],
      "text/plain": [
       "        distance_from_home  distance_from_last_transaction  \\\n",
       "0                57.877857                        0.311140   \n",
       "1                10.829943                        0.175592   \n",
       "2                 5.091079                        0.805153   \n",
       "3                 2.247564                        5.600044   \n",
       "4                44.190936                        0.566486   \n",
       "...                    ...                             ...   \n",
       "999995            2.207101                        0.112651   \n",
       "999996           19.872726                        2.683904   \n",
       "999997            2.914857                        1.472687   \n",
       "999998            4.258729                        0.242023   \n",
       "999999           58.108125                        0.318110   \n",
       "\n",
       "        ratio_to_median_purchase_price  repeat_retailer  used_chip  \\\n",
       "0                             1.945940              1.0        1.0   \n",
       "1                             1.294219              1.0        0.0   \n",
       "2                             0.427715              1.0        0.0   \n",
       "3                             0.362663              1.0        1.0   \n",
       "4                             2.222767              1.0        1.0   \n",
       "...                                ...              ...        ...   \n",
       "999995                        1.626798              1.0        1.0   \n",
       "999996                        2.778303              1.0        1.0   \n",
       "999997                        0.218075              1.0        1.0   \n",
       "999998                        0.475822              1.0        0.0   \n",
       "999999                        0.386920              1.0        1.0   \n",
       "\n",
       "        used_pin_number  online_order  fraud  \n",
       "0                   0.0           0.0    0.0  \n",
       "1                   0.0           0.0    0.0  \n",
       "2                   0.0           1.0    0.0  \n",
       "3                   0.0           1.0    0.0  \n",
       "4                   0.0           1.0    0.0  \n",
       "...                 ...           ...    ...  \n",
       "999995              0.0           0.0    0.0  \n",
       "999996              0.0           0.0    0.0  \n",
       "999997              0.0           1.0    0.0  \n",
       "999998              0.0           1.0    0.0  \n",
       "999999              0.0           1.0    0.0  \n",
       "\n",
       "[1000000 rows x 8 columns]"
      ]
     },
     "execution_count": 34,
     "metadata": {},
     "output_type": "execute_result"
    }
   ],
   "source": [
    "df = pd.read_csv(\"card_transdata.csv\", sep = ',')\n",
    "df"
   ]
  },
  {
   "cell_type": "markdown",
   "id": "62569e0e",
   "metadata": {},
   "source": [
    "<h3> 2. Limpeza de dados e analise exploratória:</h3>"
   ]
  },
  {
   "cell_type": "markdown",
   "id": "0b7b8a56",
   "metadata": {},
   "source": [
    "<h4> 2.2 Checando a existencia de valores nulos</h4>"
   ]
  },
  {
   "cell_type": "code",
   "execution_count": 35,
   "id": "43448b67",
   "metadata": {
    "scrolled": true
   },
   "outputs": [
    {
     "name": "stdout",
     "output_type": "stream",
     "text": [
      "<class 'pandas.core.frame.DataFrame'>\n",
      "RangeIndex: 1000000 entries, 0 to 999999\n",
      "Data columns (total 8 columns):\n",
      " #   Column                          Non-Null Count    Dtype  \n",
      "---  ------                          --------------    -----  \n",
      " 0   distance_from_home              1000000 non-null  float64\n",
      " 1   distance_from_last_transaction  1000000 non-null  float64\n",
      " 2   ratio_to_median_purchase_price  1000000 non-null  float64\n",
      " 3   repeat_retailer                 1000000 non-null  float64\n",
      " 4   used_chip                       1000000 non-null  float64\n",
      " 5   used_pin_number                 1000000 non-null  float64\n",
      " 6   online_order                    1000000 non-null  float64\n",
      " 7   fraud                           1000000 non-null  float64\n",
      "dtypes: float64(8)\n",
      "memory usage: 61.0 MB\n"
     ]
    }
   ],
   "source": [
    "df.info()"
   ]
  },
  {
   "cell_type": "markdown",
   "id": "9f6af51e",
   "metadata": {},
   "source": [
    "<ul><li>Nâo há valores nulos no dataset</li></ul>"
   ]
  },
  {
   "cell_type": "markdown",
   "id": "973f5c6e",
   "metadata": {},
   "source": [
    "<h4> 2.3 Parametros que só podem ser verdadeiros ou falsos:</h4>"
   ]
  },
  {
   "cell_type": "code",
   "execution_count": 36,
   "id": "9aad0372",
   "metadata": {
    "scrolled": false
   },
   "outputs": [
    {
     "name": "stdout",
     "output_type": "stream",
     "text": [
      "repeat_retailer : [1. 0.]\n",
      "used_chip : [1. 0.]\n",
      "used_pin_number : [0. 1.]\n",
      "online_order : [0. 1.]\n",
      "fraud : [0. 1.]\n"
     ]
    }
   ],
   "source": [
    "for feature in ['repeat_retailer','used_chip','used_pin_number','online_order','fraud']:\n",
    "    print(feature,df[feature].unique(),sep=' : ')"
   ]
  },
  {
   "cell_type": "markdown",
   "id": "0ae36917",
   "metadata": {},
   "source": [
    "<h4> 2.3 Verificando outliers</h4>"
   ]
  },
  {
   "cell_type": "code",
   "execution_count": 37,
   "id": "41b3eef1",
   "metadata": {},
   "outputs": [],
   "source": [
    "# Separando features do tipo numerico dos de tipo categóricos\n",
    "numerical_features = ['distance_from_home','distance_from_last_transaction','ratio_to_median_purchase_price']\n",
    "categorical_features =  ['repeat_retailer','used_chip','used_pin_number','online_order','fraud']"
   ]
  },
  {
   "cell_type": "code",
   "execution_count": 38,
   "id": "41dd52b5",
   "metadata": {
    "scrolled": false
   },
   "outputs": [
    {
     "data": {
      "image/png": "[encoded data removed]",
      "text/plain": [
       "<Figure size 720x144 with 3 Axes>"
      ]
     },
     "metadata": {
      "needs_background": "light"
     },
     "output_type": "display_data"
    }
   ],
   "source": [
    "fig, axes = plt.subplots(1, 3, sharex=False, figsize=(10,2))\n",
    "position_matrix = [0,1,2]\n",
    "\n",
    "count_var = 0\n",
    "\n",
    "for feature in numerical_features:\n",
    "    sns.boxplot(ax=axes[count_var],data=df, x=feature,hue='fraud')\n",
    "    axes[position_matrix[count_var]].set_title(feature)\n",
    "    count_var += 1"
   ]
  },
  {
   "cell_type": "markdown",
   "id": "e4315db3",
   "metadata": {},
   "source": [
    "<ul><li>Por enquanto vamos assumir que os outlier se tratam de fraudes, pois são valores muito altos utilizados a uma distancia muito grande da casa do dono do cartão, portanto não serão removidos</li></ul>"
   ]
  },
  {
   "cell_type": "markdown",
   "id": "31c0c4d9",
   "metadata": {},
   "source": [
    "<h4> 2.4 Descrevendo as features do dataset </h4>\n",
    "\n",
    "<table style = 'float: center'>\n",
    "<tr>\n",
    "    <td style = 'text-align:left'>Coluna</td>\n",
    "    <td style = 'text-align:left'>Descrição</td>\n",
    "</tr>\n",
    "\n",
    "<tr>\n",
    "    <td style = 'text-align:left'> distance_from_home</td>\n",
    "    <td style = 'text-align:left'> A distancia entre onde foi feita a transação e a casa do dono do cartão (em km)</td>\n",
    "</tr>\n",
    "    \n",
    "<tr>\n",
    "    <td style = 'text-align:left'> distance_from_last_transaction</td>\n",
    "    <td style = 'text-align:left'> A distancia entre onde foram feitas a ultima e a atual transação (em Km)</td>\n",
    "</tr>\n",
    "\n",
    "<tr>\n",
    "    <td style = 'text-align:left'> ratio_to_median_purchase_price</td>\n",
    "    <td style = 'text-align:left'> A razão entre a transação mediana e a transação atual. Exemplo: mediana = 50, atual = 60 então \"ratio_to_median_purchase_price = 50/60 </td>\n",
    "</tr>\n",
    "\n",
    "<tr>\n",
    "    <td style = 'text-align:left'> repeat_retailer</td>\n",
    "    <td style = 'text-align:left'> Define se a transação está sendo feita em um lugar onde o cartão é frequentemente utilizado </td>\n",
    "</tr>\n",
    "\n",
    "<tr>\n",
    "    <td style = 'text-align:left'> used_chip</td>\n",
    "    <td style = 'text-align:left'> Define se a transação foi realizada utilizando um chip RFID</td>\n",
    "</tr>\n",
    "\n",
    "<tr>\n",
    "    <td style = 'text-align:left'> used_pin_number</td>\n",
    "    <td style = 'text-align:left'> Define se foi utilizado o numero pin na transação</td>\n",
    "</tr>\n",
    "\n",
    "<tr>\n",
    "    <td style = 'text-align:left'> online_order</td>\n",
    "    <td style = 'text-align:left'> Define se a transação se trata de um pagamento online</td>\n",
    "</tr>\n",
    "</table>"
   ]
  },
  {
   "cell_type": "markdown",
   "id": "03bd80cd",
   "metadata": {},
   "source": [
    "<h4> 2.5 Verificando as combinações </h4>"
   ]
  },
  {
   "cell_type": "code",
   "execution_count": 39,
   "id": "5d2f4314",
   "metadata": {},
   "outputs": [
    {
     "data": {
      "text/plain": [
       "<seaborn.axisgrid.PairGrid at 0x1fd00661d80>"
      ]
     },
     "execution_count": 39,
     "metadata": {},
     "output_type": "execute_result"
    },
    {
     "data": {
      "image/png": "[encoded data removed]",
      "text/plain": [
       "<Figure size 1296x1296 with 12 Axes>"
      ]
     },
     "metadata": {
      "needs_background": "light"
     },
     "output_type": "display_data"
    }
   ],
   "source": [
    "sns.pairplot(data=df[numerical_features], height=6, aspect=1)"
   ]
  },
  {
   "cell_type": "code",
   "execution_count": 40,
   "id": "1ddaa645",
   "metadata": {},
   "outputs": [
    {
     "data": {
      "text/plain": [
       "<AxesSubplot:xlabel='online_order', ylabel='count'>"
      ]
     },
     "execution_count": 40,
     "metadata": {},
     "output_type": "execute_result"
    },
    {
     "data": {
      "image/png": "[encoded data removed]",
      "text/plain": [
       "<Figure size 720x720 with 4 Axes>"
      ]
     },
     "metadata": {
      "needs_background": "light"
     },
     "output_type": "display_data"
    }
   ],
   "source": [
    "fig, axes = plt.subplots(2, 2, sharex=False, figsize =(10,10))\n",
    "sns.countplot(ax=axes[0,0],x=\"repeat_retailer\", data=df, hue='fraud')\n",
    "sns.countplot(ax=axes[0,1],x=\"used_chip\", data=df, hue='fraud')\n",
    "sns.countplot(ax=axes[1,0],x=\"used_pin_number\", data=df, hue='fraud')\n",
    "sns.countplot(ax=axes[1,1],x=\"online_order\", data=df, hue='fraud')"
   ]
  },
  {
   "cell_type": "markdown",
   "id": "34a289c5",
   "metadata": {},
   "source": [
    "<h4> 2.6 Divisão de treino e teste </h4>"
   ]
  },
  {
   "cell_type": "code",
   "execution_count": 70,
   "id": "84067c77",
   "metadata": {},
   "outputs": [
    {
     "name": "stdout",
     "output_type": "stream",
     "text": [
      "Há 750000 dados de treino e 250000 dados de teste do total de 1000000 dados.\n"
     ]
    }
   ],
   "source": [
    "X = df.drop('fraud', axis='columns')\n",
    "y = df['fraud']\n",
    "X_train, X_test, y_train, y_test = train_test_split(X, y, random_state=42)\n",
    "print('Há', y_train.shape[0], 'dados de treino e', y_test.shape[0], 'dados de teste do total de',y.shape[0],'dados.')"
   ]
  },
  {
   "cell_type": "markdown",
   "id": "4d8511b3",
   "metadata": {},
   "source": [
    "<span>Analisando a proporção entre as classes.</span>"
   ]
  },
  {
   "cell_type": "code",
   "execution_count": 104,
   "id": "c0fbd31c",
   "metadata": {},
   "outputs": [
    {
     "name": "stdout",
     "output_type": "stream",
     "text": [
      "Dados:\n",
      " 0.0    0.9126\n",
      "1.0    0.0874\n",
      "Name: fraud, dtype: float64 \n",
      "\n",
      "Dados de treino:\n",
      " 0.0    0.91245\n",
      "1.0    0.08755\n",
      "Name: fraud, dtype: float64 \n",
      "\n",
      "Dados de teste:\n",
      " 0.0    0.91303\n",
      "1.0    0.08697\n",
      "Name: fraud, dtype: float64\n"
     ]
    }
   ],
   "source": [
    "print('Dados:\\n', y.value_counts(normalize = True).round(5),'\\n')\n",
    "print('Dados de treino:\\n', y_train.value_counts(normalize = True).round(5),'\\n')\n",
    "print('Dados de teste:\\n', y_test.value_counts(normalize = True).round(5))"
   ]
  },
  {
   "cell_type": "markdown",
   "id": "d956aeb5",
   "metadata": {},
   "source": [
    "<span>Analisando a proporção entre as classes com mais casas decimais.</span>"
   ]
  },
  {
   "cell_type": "code",
   "execution_count": 107,
   "id": "bce7a8ba",
   "metadata": {},
   "outputs": [
    {
     "name": "stdout",
     "output_type": "stream",
     "text": [
      "Há 750000 dados de treino e 250000 dados de teste do total de 1000000 dados.\n"
     ]
    }
   ],
   "source": [
    "X_train_2, X_test_2, y_train_2, y_test_2 = train_test_split(X, y, stratify = y, random_state = 12)\n",
    "print('Há', y_train_2.shape[0], 'dados de treino e', y_test_2.shape[0], 'dados de teste do total de',y.shape[0],'dados.')"
   ]
  },
  {
   "cell_type": "code",
   "execution_count": 109,
   "id": "20f9d86c",
   "metadata": {},
   "outputs": [
    {
     "name": "stdout",
     "output_type": "stream",
     "text": [
      "Dados:\n",
      " 0.0    0.912597\n",
      "1.0    0.087403\n",
      "Name: fraud, dtype: float64 \n",
      "\n",
      "Dados de treino:\n",
      " 0.0    0.912597\n",
      "1.0    0.087403\n",
      "Name: fraud, dtype: float64 \n",
      "\n",
      "Dados de teste:\n",
      " 0.0    0.912596\n",
      "1.0    0.087404\n",
      "Name: fraud, dtype: float64\n"
     ]
    }
   ],
   "source": [
    "print('Dados:\\n', y.value_counts(normalize = True).round(10),'\\n')\n",
    "print('Dados de treino:\\n', y_train_2.value_counts(normalize = True).round(10),'\\n')\n",
    "print('Dados de teste:\\n', y_test_2.value_counts(normalize = True).round(10))"
   ]
  },
  {
   "cell_type": "markdown",
   "id": "8a80748e",
   "metadata": {},
   "source": [
    "<h3>3. Modelagem</h3>"
   ]
  },
  {
   "cell_type": "markdown",
   "id": "a89b0850",
   "metadata": {},
   "source": [
    "<h4>3.1 K-Nearest Neighbor</h4>"
   ]
  },
  {
   "cell_type": "markdown",
   "id": "42a9bec5",
   "metadata": {},
   "source": [
    "- Modelo para casos de classificação, como no nosso caso de classificação binária (dois tipos específicos, mutuamente exclusivos), mas também pode ser usado em casos de regressão.\n",
    "- Baseado na distância euclidiana, a qual é um caso particular da distância de Minkowski.\n",
    "- Baseado nas k observações do conjunto de treinamento que são mais idênticas ou próximas da nova observação.\n",
    "- Modelo não paramétrico baseado em instância, por ter que calcular a diferença entre a observação teste com cada observação de treino.\n",
    "- A previsão é determinada pela classe de maior reincidência entre os k vizinhos mais próximos.\n"
   ]
  },
  {
   "cell_type": "markdown",
   "id": "a683c61e",
   "metadata": {},
   "source": [
    "<span>Evitar distorção por diferença de escala.</span>"
   ]
  },
  {
   "cell_type": "code",
   "execution_count": 72,
   "id": "0faa0b40",
   "metadata": {},
   "outputs": [],
   "source": [
    "scaler = StandardScaler()\n",
    "X_train_default = scaler.fit_transform(X_train)\n",
    "X_test_default= scaler.transform(X_test) "
   ]
  },
  {
   "cell_type": "code",
   "execution_count": 73,
   "id": "225cd17c",
   "metadata": {},
   "outputs": [
    {
     "name": "stdout",
     "output_type": "stream",
     "text": [
      "Medias treino: [-0.  0. -0.  0. -0.  0. -0.]\n",
      "Desvio treino: [1. 1. 1. 1. 1. 1. 1.]\n",
      "Medias teste: [ 0.  0. -0.  0.  0. -0. -0.]\n",
      "Desvio teste: [1.01 0.89 1.01 1.   1.   1.   1.  ]\n"
     ]
    }
   ],
   "source": [
    "print('Medias treino:', np.mean(X_train_default, axis = 0).round(2))\n",
    "print('Desvio treino:', np.std(X_train_default, axis = 0).round(2))\n",
    "\n",
    "print('Medias teste:', np.mean(X_test_default, axis = 0).round(2))\n",
    "print('Desvio teste:', np.std(X_test_default, axis = 0).round(2))"
   ]
  },
  {
   "cell_type": "markdown",
   "id": "fca0d893",
   "metadata": {},
   "source": [
    "<h5>3.1.1 Valor padrão</h5>"
   ]
  },
  {
   "cell_type": "markdown",
   "id": "d62be4fe",
   "metadata": {},
   "source": [
    "<span>Modelo com sua configuração padrão(k=5)</span>"
   ]
  },
  {
   "cell_type": "code",
   "execution_count": 74,
   "id": "1c63e0b7",
   "metadata": {},
   "outputs": [],
   "source": [
    "def knn_default(X_train, y_train, X_test):\n",
    "    knn = KNeighborsClassifier()\n",
    "    knn.fit(X_train, y_train)\n",
    "    y_pred = knn.predict(X_test)\n",
    "    return y_pred"
   ]
  },
  {
   "cell_type": "code",
   "execution_count": 75,
   "id": "5b5a7be1",
   "metadata": {},
   "outputs": [
    {
     "name": "stdout",
     "output_type": "stream",
     "text": [
      "No modelo de K=5 obtivemos a precisão 0.99938 nos dados de treinamento e 0.99875 nos dados de teste.\n"
     ]
    }
   ],
   "source": [
    "y_train_default_pred = knn_default(X_train_default, y_train, X_train_default)\n",
    "y_test_default_pred = knn_default(X_train_default, y_train, X_test_default)\n",
    "acc_train_model= accuracy_score(y_train, y_train_default_pred).round(5)\n",
    "acc_test_model= accuracy_score(y_test, y_test_default_pred).round(5)\n",
    "print(\"No modelo de K=5 obtivemos a precisão\",acc_train_model,\"nos dados de treinamento e\",acc_test_model,\"nos dados de teste.\")"
   ]
  },
  {
   "cell_type": "markdown",
   "id": "3e82c1e1",
   "metadata": {},
   "source": [
    "<h5>3.1.2 Valor ideal</h5>"
   ]
  },
  {
   "cell_type": "markdown",
   "id": "79d787bb",
   "metadata": {},
   "source": [
    "<span>Analizando o melhor valor para o hiperparâmetro.</span>"
   ]
  },
  {
   "cell_type": "code",
   "execution_count": 58,
   "id": "75a6f4d7",
   "metadata": {},
   "outputs": [],
   "source": [
    "#validação cruzada\n",
    "kf = KFold(n_splits = 5, \n",
    "           shuffle = True, \n",
    "           random_state = 12\n",
    "          )"
   ]
  },
  {
   "cell_type": "code",
   "execution_count": 60,
   "id": "3f62d8d2",
   "metadata": {},
   "outputs": [],
   "source": [
    "def knn_score(X_train,y_train):\n",
    "    scores_para_df_standard = []\n",
    "\n",
    "    for i in range(1, 21):\n",
    "        model = KNeighborsClassifier(n_neighbors = i)\n",
    "\n",
    "        cv_scores = cross_val_score(model, \n",
    "                                    X_train, \n",
    "                                    y_train, \n",
    "                                    cv = kf\n",
    "                                )\n",
    "        \n",
    "        dict_row_score = {'score_medio':np.mean(cv_scores),\n",
    "                        'score_std':np.std(cv_scores), 'n_neighbors' : i\n",
    "                        }\n",
    "        \n",
    "        scores_para_df_standard.append(dict_row_score)\n",
    "        \n",
    "    return scores_para_df_standard"
   ]
  },
  {
   "cell_type": "code",
   "execution_count": 61,
   "id": "cf75cce0",
   "metadata": {},
   "outputs": [
    {
     "data": {
      "text/html": [
       "<div>\n",
       "<style scoped>\n",
       "    .dataframe tbody tr th:only-of-type {\n",
       "        vertical-align: middle;\n",
       "    }\n",
       "\n",
       "    .dataframe tbody tr th {\n",
       "        vertical-align: top;\n",
       "    }\n",
       "\n",
       "    .dataframe thead th {\n",
       "        text-align: right;\n",
       "    }\n",
       "</style>\n",
       "<table border=\"1\" class=\"dataframe\">\n",
       "  <thead>\n",
       "    <tr style=\"text-align: right;\">\n",
       "      <th></th>\n",
       "      <th>score_medio</th>\n",
       "      <th>score_std</th>\n",
       "      <th>n_neighbors</th>\n",
       "    </tr>\n",
       "  </thead>\n",
       "  <tbody>\n",
       "    <tr>\n",
       "      <th>0</th>\n",
       "      <td>0.998736</td>\n",
       "      <td>0.000077</td>\n",
       "      <td>1</td>\n",
       "    </tr>\n",
       "    <tr>\n",
       "      <th>1</th>\n",
       "      <td>0.998436</td>\n",
       "      <td>0.000119</td>\n",
       "      <td>2</td>\n",
       "    </tr>\n",
       "    <tr>\n",
       "      <th>2</th>\n",
       "      <td>0.998763</td>\n",
       "      <td>0.000065</td>\n",
       "      <td>3</td>\n",
       "    </tr>\n",
       "    <tr>\n",
       "      <th>3</th>\n",
       "      <td>0.998507</td>\n",
       "      <td>0.000092</td>\n",
       "      <td>4</td>\n",
       "    </tr>\n",
       "    <tr>\n",
       "      <th>4</th>\n",
       "      <td>0.998728</td>\n",
       "      <td>0.000078</td>\n",
       "      <td>5</td>\n",
       "    </tr>\n",
       "  </tbody>\n",
       "</table>\n",
       "</div>"
      ],
      "text/plain": [
       "   score_medio  score_std  n_neighbors\n",
       "0     0.998736   0.000077            1\n",
       "1     0.998436   0.000119            2\n",
       "2     0.998763   0.000065            3\n",
       "3     0.998507   0.000092            4\n",
       "4     0.998728   0.000078            5"
      ]
     },
     "execution_count": 61,
     "metadata": {},
     "output_type": "execute_result"
    }
   ],
   "source": [
    "scores_para_df = []\n",
    "scores_para_df = knn_score(X_train_default,y_train)\n",
    "df_scores = pd.DataFrame(scores_para_df)\n",
    "df_scores.head()"
   ]
  },
  {
   "cell_type": "code",
   "execution_count": 62,
   "id": "67f88202",
   "metadata": {},
   "outputs": [
    {
     "data": {
      "text/html": [
       "<div>\n",
       "<style scoped>\n",
       "    .dataframe tbody tr th:only-of-type {\n",
       "        vertical-align: middle;\n",
       "    }\n",
       "\n",
       "    .dataframe tbody tr th {\n",
       "        vertical-align: top;\n",
       "    }\n",
       "\n",
       "    .dataframe thead th {\n",
       "        text-align: right;\n",
       "    }\n",
       "</style>\n",
       "<table border=\"1\" class=\"dataframe\">\n",
       "  <thead>\n",
       "    <tr style=\"text-align: right;\">\n",
       "      <th></th>\n",
       "      <th>score_medio</th>\n",
       "      <th>score_std</th>\n",
       "      <th>n_neighbors</th>\n",
       "    </tr>\n",
       "  </thead>\n",
       "  <tbody>\n",
       "    <tr>\n",
       "      <th>0</th>\n",
       "      <td>0.998736</td>\n",
       "      <td>0.000077</td>\n",
       "      <td>1</td>\n",
       "    </tr>\n",
       "    <tr>\n",
       "      <th>1</th>\n",
       "      <td>0.998436</td>\n",
       "      <td>0.000119</td>\n",
       "      <td>2</td>\n",
       "    </tr>\n",
       "    <tr>\n",
       "      <th>2</th>\n",
       "      <td>0.998763</td>\n",
       "      <td>0.000065</td>\n",
       "      <td>3</td>\n",
       "    </tr>\n",
       "    <tr>\n",
       "      <th>3</th>\n",
       "      <td>0.998507</td>\n",
       "      <td>0.000092</td>\n",
       "      <td>4</td>\n",
       "    </tr>\n",
       "    <tr>\n",
       "      <th>4</th>\n",
       "      <td>0.998728</td>\n",
       "      <td>0.000078</td>\n",
       "      <td>5</td>\n",
       "    </tr>\n",
       "    <tr>\n",
       "      <th>5</th>\n",
       "      <td>0.998535</td>\n",
       "      <td>0.000122</td>\n",
       "      <td>6</td>\n",
       "    </tr>\n",
       "    <tr>\n",
       "      <th>6</th>\n",
       "      <td>0.998707</td>\n",
       "      <td>0.000101</td>\n",
       "      <td>7</td>\n",
       "    </tr>\n",
       "    <tr>\n",
       "      <th>7</th>\n",
       "      <td>0.998475</td>\n",
       "      <td>0.000090</td>\n",
       "      <td>8</td>\n",
       "    </tr>\n",
       "    <tr>\n",
       "      <th>8</th>\n",
       "      <td>0.998617</td>\n",
       "      <td>0.000099</td>\n",
       "      <td>9</td>\n",
       "    </tr>\n",
       "    <tr>\n",
       "      <th>9</th>\n",
       "      <td>0.998491</td>\n",
       "      <td>0.000110</td>\n",
       "      <td>10</td>\n",
       "    </tr>\n",
       "    <tr>\n",
       "      <th>10</th>\n",
       "      <td>0.998579</td>\n",
       "      <td>0.000093</td>\n",
       "      <td>11</td>\n",
       "    </tr>\n",
       "    <tr>\n",
       "      <th>11</th>\n",
       "      <td>0.998445</td>\n",
       "      <td>0.000123</td>\n",
       "      <td>12</td>\n",
       "    </tr>\n",
       "    <tr>\n",
       "      <th>12</th>\n",
       "      <td>0.998541</td>\n",
       "      <td>0.000109</td>\n",
       "      <td>13</td>\n",
       "    </tr>\n",
       "    <tr>\n",
       "      <th>13</th>\n",
       "      <td>0.998409</td>\n",
       "      <td>0.000138</td>\n",
       "      <td>14</td>\n",
       "    </tr>\n",
       "    <tr>\n",
       "      <th>14</th>\n",
       "      <td>0.998481</td>\n",
       "      <td>0.000119</td>\n",
       "      <td>15</td>\n",
       "    </tr>\n",
       "    <tr>\n",
       "      <th>15</th>\n",
       "      <td>0.998344</td>\n",
       "      <td>0.000156</td>\n",
       "      <td>16</td>\n",
       "    </tr>\n",
       "    <tr>\n",
       "      <th>16</th>\n",
       "      <td>0.998420</td>\n",
       "      <td>0.000139</td>\n",
       "      <td>17</td>\n",
       "    </tr>\n",
       "    <tr>\n",
       "      <th>17</th>\n",
       "      <td>0.998319</td>\n",
       "      <td>0.000136</td>\n",
       "      <td>18</td>\n",
       "    </tr>\n",
       "    <tr>\n",
       "      <th>18</th>\n",
       "      <td>0.998393</td>\n",
       "      <td>0.000144</td>\n",
       "      <td>19</td>\n",
       "    </tr>\n",
       "    <tr>\n",
       "      <th>19</th>\n",
       "      <td>0.998283</td>\n",
       "      <td>0.000137</td>\n",
       "      <td>20</td>\n",
       "    </tr>\n",
       "  </tbody>\n",
       "</table>\n",
       "</div>"
      ],
      "text/plain": [
       "    score_medio  score_std  n_neighbors\n",
       "0      0.998736   0.000077            1\n",
       "1      0.998436   0.000119            2\n",
       "2      0.998763   0.000065            3\n",
       "3      0.998507   0.000092            4\n",
       "4      0.998728   0.000078            5\n",
       "5      0.998535   0.000122            6\n",
       "6      0.998707   0.000101            7\n",
       "7      0.998475   0.000090            8\n",
       "8      0.998617   0.000099            9\n",
       "9      0.998491   0.000110           10\n",
       "10     0.998579   0.000093           11\n",
       "11     0.998445   0.000123           12\n",
       "12     0.998541   0.000109           13\n",
       "13     0.998409   0.000138           14\n",
       "14     0.998481   0.000119           15\n",
       "15     0.998344   0.000156           16\n",
       "16     0.998420   0.000139           17\n",
       "17     0.998319   0.000136           18\n",
       "18     0.998393   0.000144           19\n",
       "19     0.998283   0.000137           20"
      ]
     },
     "execution_count": 62,
     "metadata": {},
     "output_type": "execute_result"
    }
   ],
   "source": [
    "df_scores"
   ]
  },
  {
   "cell_type": "markdown",
   "id": "02deee20",
   "metadata": {},
   "source": [
    "<span>Analisando graficamente.</span>"
   ]
  },
  {
   "cell_type": "code",
   "execution_count": 63,
   "id": "e9e1dc6f",
   "metadata": {},
   "outputs": [
    {
     "data": {
      "text/html": [
       "<div>\n",
       "<style scoped>\n",
       "    .dataframe tbody tr th:only-of-type {\n",
       "        vertical-align: middle;\n",
       "    }\n",
       "\n",
       "    .dataframe tbody tr th {\n",
       "        vertical-align: top;\n",
       "    }\n",
       "\n",
       "    .dataframe thead th {\n",
       "        text-align: right;\n",
       "    }\n",
       "</style>\n",
       "<table border=\"1\" class=\"dataframe\">\n",
       "  <thead>\n",
       "    <tr style=\"text-align: right;\">\n",
       "      <th></th>\n",
       "      <th>score_medio</th>\n",
       "      <th>score_std</th>\n",
       "      <th>n_neighbors</th>\n",
       "      <th>limite_inferior</th>\n",
       "      <th>limite_superior</th>\n",
       "    </tr>\n",
       "  </thead>\n",
       "  <tbody>\n",
       "    <tr>\n",
       "      <th>0</th>\n",
       "      <td>0.998736</td>\n",
       "      <td>0.000077</td>\n",
       "      <td>1</td>\n",
       "      <td>0.998659</td>\n",
       "      <td>0.998813</td>\n",
       "    </tr>\n",
       "    <tr>\n",
       "      <th>1</th>\n",
       "      <td>0.998436</td>\n",
       "      <td>0.000119</td>\n",
       "      <td>2</td>\n",
       "      <td>0.998317</td>\n",
       "      <td>0.998555</td>\n",
       "    </tr>\n",
       "    <tr>\n",
       "      <th>2</th>\n",
       "      <td>0.998763</td>\n",
       "      <td>0.000065</td>\n",
       "      <td>3</td>\n",
       "      <td>0.998697</td>\n",
       "      <td>0.998828</td>\n",
       "    </tr>\n",
       "    <tr>\n",
       "      <th>3</th>\n",
       "      <td>0.998507</td>\n",
       "      <td>0.000092</td>\n",
       "      <td>4</td>\n",
       "      <td>0.998415</td>\n",
       "      <td>0.998598</td>\n",
       "    </tr>\n",
       "    <tr>\n",
       "      <th>4</th>\n",
       "      <td>0.998728</td>\n",
       "      <td>0.000078</td>\n",
       "      <td>5</td>\n",
       "      <td>0.998650</td>\n",
       "      <td>0.998806</td>\n",
       "    </tr>\n",
       "  </tbody>\n",
       "</table>\n",
       "</div>"
      ],
      "text/plain": [
       "   score_medio  score_std  n_neighbors  limite_inferior  limite_superior\n",
       "0     0.998736   0.000077            1         0.998659         0.998813\n",
       "1     0.998436   0.000119            2         0.998317         0.998555\n",
       "2     0.998763   0.000065            3         0.998697         0.998828\n",
       "3     0.998507   0.000092            4         0.998415         0.998598\n",
       "4     0.998728   0.000078            5         0.998650         0.998806"
      ]
     },
     "execution_count": 63,
     "metadata": {},
     "output_type": "execute_result"
    }
   ],
   "source": [
    "df_scores['limite_inferior'] = df_scores['score_medio'] - df_scores['score_std']\n",
    "df_scores['limite_superior'] = df_scores['score_medio'] + df_scores['score_std']\n",
    "df_scores.head()"
   ]
  },
  {
   "cell_type": "code",
   "execution_count": 64,
   "id": "1ab3c570",
   "metadata": {},
   "outputs": [
    {
     "data": {
      "text/html": [
       "<div>\n",
       "<style scoped>\n",
       "    .dataframe tbody tr th:only-of-type {\n",
       "        vertical-align: middle;\n",
       "    }\n",
       "\n",
       "    .dataframe tbody tr th {\n",
       "        vertical-align: top;\n",
       "    }\n",
       "\n",
       "    .dataframe thead th {\n",
       "        text-align: right;\n",
       "    }\n",
       "</style>\n",
       "<table border=\"1\" class=\"dataframe\">\n",
       "  <thead>\n",
       "    <tr style=\"text-align: right;\">\n",
       "      <th></th>\n",
       "      <th>score_medio</th>\n",
       "      <th>score_std</th>\n",
       "      <th>n_neighbors</th>\n",
       "      <th>limite_inferior</th>\n",
       "      <th>limite_superior</th>\n",
       "    </tr>\n",
       "  </thead>\n",
       "  <tbody>\n",
       "    <tr>\n",
       "      <th>0</th>\n",
       "      <td>0.998736</td>\n",
       "      <td>0.000077</td>\n",
       "      <td>1</td>\n",
       "      <td>0.998659</td>\n",
       "      <td>0.998813</td>\n",
       "    </tr>\n",
       "    <tr>\n",
       "      <th>1</th>\n",
       "      <td>0.998436</td>\n",
       "      <td>0.000119</td>\n",
       "      <td>2</td>\n",
       "      <td>0.998317</td>\n",
       "      <td>0.998555</td>\n",
       "    </tr>\n",
       "    <tr>\n",
       "      <th>2</th>\n",
       "      <td>0.998763</td>\n",
       "      <td>0.000065</td>\n",
       "      <td>3</td>\n",
       "      <td>0.998697</td>\n",
       "      <td>0.998828</td>\n",
       "    </tr>\n",
       "    <tr>\n",
       "      <th>3</th>\n",
       "      <td>0.998507</td>\n",
       "      <td>0.000092</td>\n",
       "      <td>4</td>\n",
       "      <td>0.998415</td>\n",
       "      <td>0.998598</td>\n",
       "    </tr>\n",
       "    <tr>\n",
       "      <th>4</th>\n",
       "      <td>0.998728</td>\n",
       "      <td>0.000078</td>\n",
       "      <td>5</td>\n",
       "      <td>0.998650</td>\n",
       "      <td>0.998806</td>\n",
       "    </tr>\n",
       "    <tr>\n",
       "      <th>5</th>\n",
       "      <td>0.998535</td>\n",
       "      <td>0.000122</td>\n",
       "      <td>6</td>\n",
       "      <td>0.998412</td>\n",
       "      <td>0.998657</td>\n",
       "    </tr>\n",
       "    <tr>\n",
       "      <th>6</th>\n",
       "      <td>0.998707</td>\n",
       "      <td>0.000101</td>\n",
       "      <td>7</td>\n",
       "      <td>0.998606</td>\n",
       "      <td>0.998808</td>\n",
       "    </tr>\n",
       "    <tr>\n",
       "      <th>7</th>\n",
       "      <td>0.998475</td>\n",
       "      <td>0.000090</td>\n",
       "      <td>8</td>\n",
       "      <td>0.998385</td>\n",
       "      <td>0.998565</td>\n",
       "    </tr>\n",
       "    <tr>\n",
       "      <th>8</th>\n",
       "      <td>0.998617</td>\n",
       "      <td>0.000099</td>\n",
       "      <td>9</td>\n",
       "      <td>0.998518</td>\n",
       "      <td>0.998716</td>\n",
       "    </tr>\n",
       "    <tr>\n",
       "      <th>9</th>\n",
       "      <td>0.998491</td>\n",
       "      <td>0.000110</td>\n",
       "      <td>10</td>\n",
       "      <td>0.998380</td>\n",
       "      <td>0.998601</td>\n",
       "    </tr>\n",
       "    <tr>\n",
       "      <th>10</th>\n",
       "      <td>0.998579</td>\n",
       "      <td>0.000093</td>\n",
       "      <td>11</td>\n",
       "      <td>0.998486</td>\n",
       "      <td>0.998671</td>\n",
       "    </tr>\n",
       "    <tr>\n",
       "      <th>11</th>\n",
       "      <td>0.998445</td>\n",
       "      <td>0.000123</td>\n",
       "      <td>12</td>\n",
       "      <td>0.998323</td>\n",
       "      <td>0.998568</td>\n",
       "    </tr>\n",
       "    <tr>\n",
       "      <th>12</th>\n",
       "      <td>0.998541</td>\n",
       "      <td>0.000109</td>\n",
       "      <td>13</td>\n",
       "      <td>0.998433</td>\n",
       "      <td>0.998650</td>\n",
       "    </tr>\n",
       "    <tr>\n",
       "      <th>13</th>\n",
       "      <td>0.998409</td>\n",
       "      <td>0.000138</td>\n",
       "      <td>14</td>\n",
       "      <td>0.998271</td>\n",
       "      <td>0.998547</td>\n",
       "    </tr>\n",
       "    <tr>\n",
       "      <th>14</th>\n",
       "      <td>0.998481</td>\n",
       "      <td>0.000119</td>\n",
       "      <td>15</td>\n",
       "      <td>0.998362</td>\n",
       "      <td>0.998600</td>\n",
       "    </tr>\n",
       "    <tr>\n",
       "      <th>15</th>\n",
       "      <td>0.998344</td>\n",
       "      <td>0.000156</td>\n",
       "      <td>16</td>\n",
       "      <td>0.998188</td>\n",
       "      <td>0.998500</td>\n",
       "    </tr>\n",
       "    <tr>\n",
       "      <th>16</th>\n",
       "      <td>0.998420</td>\n",
       "      <td>0.000139</td>\n",
       "      <td>17</td>\n",
       "      <td>0.998281</td>\n",
       "      <td>0.998559</td>\n",
       "    </tr>\n",
       "    <tr>\n",
       "      <th>17</th>\n",
       "      <td>0.998319</td>\n",
       "      <td>0.000136</td>\n",
       "      <td>18</td>\n",
       "      <td>0.998183</td>\n",
       "      <td>0.998454</td>\n",
       "    </tr>\n",
       "    <tr>\n",
       "      <th>18</th>\n",
       "      <td>0.998393</td>\n",
       "      <td>0.000144</td>\n",
       "      <td>19</td>\n",
       "      <td>0.998250</td>\n",
       "      <td>0.998537</td>\n",
       "    </tr>\n",
       "    <tr>\n",
       "      <th>19</th>\n",
       "      <td>0.998283</td>\n",
       "      <td>0.000137</td>\n",
       "      <td>20</td>\n",
       "      <td>0.998146</td>\n",
       "      <td>0.998419</td>\n",
       "    </tr>\n",
       "  </tbody>\n",
       "</table>\n",
       "</div>"
      ],
      "text/plain": [
       "    score_medio  score_std  n_neighbors  limite_inferior  limite_superior\n",
       "0      0.998736   0.000077            1         0.998659         0.998813\n",
       "1      0.998436   0.000119            2         0.998317         0.998555\n",
       "2      0.998763   0.000065            3         0.998697         0.998828\n",
       "3      0.998507   0.000092            4         0.998415         0.998598\n",
       "4      0.998728   0.000078            5         0.998650         0.998806\n",
       "5      0.998535   0.000122            6         0.998412         0.998657\n",
       "6      0.998707   0.000101            7         0.998606         0.998808\n",
       "7      0.998475   0.000090            8         0.998385         0.998565\n",
       "8      0.998617   0.000099            9         0.998518         0.998716\n",
       "9      0.998491   0.000110           10         0.998380         0.998601\n",
       "10     0.998579   0.000093           11         0.998486         0.998671\n",
       "11     0.998445   0.000123           12         0.998323         0.998568\n",
       "12     0.998541   0.000109           13         0.998433         0.998650\n",
       "13     0.998409   0.000138           14         0.998271         0.998547\n",
       "14     0.998481   0.000119           15         0.998362         0.998600\n",
       "15     0.998344   0.000156           16         0.998188         0.998500\n",
       "16     0.998420   0.000139           17         0.998281         0.998559\n",
       "17     0.998319   0.000136           18         0.998183         0.998454\n",
       "18     0.998393   0.000144           19         0.998250         0.998537\n",
       "19     0.998283   0.000137           20         0.998146         0.998419"
      ]
     },
     "execution_count": 64,
     "metadata": {},
     "output_type": "execute_result"
    }
   ],
   "source": [
    "df_scores"
   ]
  },
  {
   "cell_type": "code",
   "execution_count": 101,
   "id": "8bba4aea",
   "metadata": {},
   "outputs": [
    {
     "data": {
      "text/plain": [
       "[<matplotlib.lines.Line2D at 0x1fce7df5480>]"
      ]
     },
     "execution_count": 101,
     "metadata": {},
     "output_type": "execute_result"
    },
    {
     "data": {
      "image/png": "[encoded data removed]",
      "text/plain": [
       "<Figure size 1440x720 with 1 Axes>"
      ]
     },
     "metadata": {
      "needs_background": "light"
     },
     "output_type": "display_data"
    }
   ],
   "source": [
    "fig = plt.figure(figsize=(20, 10))\n",
    "plt.plot(df_scores['n_neighbors'], df_scores['limite_inferior'], \n",
    "         color = 'r'\n",
    "        )\n",
    "\n",
    "plt.plot(df_scores['n_neighbors'], df_scores['score_medio'], \n",
    "         color = 'green'\n",
    "        )\n",
    "\n",
    "plt.plot(df_scores['n_neighbors'], df_scores['limite_superior'], \n",
    "         color = 'r'\n",
    "        )"
   ]
  },
  {
   "cell_type": "markdown",
   "id": "3bd9a5b0",
   "metadata": {},
   "source": [
    "<span>Gerando o modelo com o melhor hiperparâmetro.</span>"
   ]
  },
  {
   "cell_type": "code",
   "execution_count": 66,
   "id": "440e2895",
   "metadata": {},
   "outputs": [
    {
     "data": {
      "text/plain": [
       "3"
      ]
     },
     "execution_count": 66,
     "metadata": {},
     "output_type": "execute_result"
    }
   ],
   "source": [
    "best_k = df_scores.loc[df_scores.score_medio == df_scores.score_medio.max(), \n",
    "                                'n_neighbors'].values[0]\n",
    "best_k"
   ]
  },
  {
   "cell_type": "code",
   "execution_count": 67,
   "id": "0ba6dd24",
   "metadata": {},
   "outputs": [],
   "source": [
    "def knn_best(X_train, y_train,X_test):\n",
    "    knn = KNeighborsClassifier(n_neighbors = best_k)\n",
    "    knn.fit(X_train, y_train)\n",
    "    y_pred = knn.predict(X_test)\n",
    "    return y_pred\n"
   ]
  },
  {
   "cell_type": "code",
   "execution_count": 76,
   "id": "de72456a",
   "metadata": {},
   "outputs": [
    {
     "name": "stdout",
     "output_type": "stream",
     "text": [
      "No modelo de  K= 3 obtivemos a precisão 0.99956 nos dados de treinamento e 0.99879 nos dados de teste.\n"
     ]
    }
   ],
   "source": [
    "y_train_best_pred = knn_best(X_train_default, y_train, X_train_default)\n",
    "y_test_best_pred = knn_best(X_train_default, y_train, X_test_default)\n",
    "\n",
    "acc_train_model= accuracy_score(y_train, y_train_best_pred).round(5)\n",
    "acc_test_model= accuracy_score(y_test, y_test_best_pred).round(5)\n",
    "\n",
    "print(\"No modelo de  K=\",best_k,\"obtivemos a precisão\",acc_train_model,\"nos dados de treinamento e\",acc_test_model,\"nos dados de teste.\")"
   ]
  },
  {
   "cell_type": "markdown",
   "id": "56f61bf4",
   "metadata": {},
   "source": [
    "<h5>3.1.3 Matriz de confusão</h5>"
   ]
  },
  {
   "cell_type": "markdown",
   "id": "31fc5ae2",
   "metadata": {},
   "source": [
    "<span>Analisando os acertos e erros do modelo usando a matriz de confusão.</span>"
   ]
  },
  {
   "cell_type": "code",
   "execution_count": 77,
   "id": "670e4933",
   "metadata": {},
   "outputs": [
    {
     "data": {
      "text/plain": [
       "array([[228137,    121],\n",
       "       [   182,  21560]], dtype=int64)"
      ]
     },
     "execution_count": 77,
     "metadata": {},
     "output_type": "execute_result"
    }
   ],
   "source": [
    "cm_knn = confusion_matrix(y_test, y_test_best_pred)\n",
    "cm_knn"
   ]
  },
  {
   "cell_type": "code",
   "execution_count": 81,
   "id": "a8450dbd",
   "metadata": {},
   "outputs": [
    {
     "data": {
      "text/plain": [
       "<AxesSubplot:>"
      ]
     },
     "execution_count": 81,
     "metadata": {},
     "output_type": "execute_result"
    },
    {
     "data": {
      "image/png": "[encoded data removed]",
      "text/plain": [
       "<Figure size 432x288 with 2 Axes>"
      ]
     },
     "metadata": {
      "needs_background": "light"
     },
     "output_type": "display_data"
    }
   ],
   "source": [
    "groups = ['True Neg','False Pos','False Neg','True Pos']\n",
    "percentage_values = ['{0:.3%}'.format(value) for value in cm_knn.flatten() / np.sum(cm_knn)]\n",
    "\n",
    "labels = [f\"{a}\\n{b}\" for a, b in zip(groups, percentage_values)]\n",
    "labels = np.asarray(labels).reshape(2,2)\n",
    "\n",
    "sns.heatmap(cm_knn, annot=labels, annot_kws={'fontsize':13}, fmt='')"
   ]
  },
  {
   "cell_type": "markdown",
   "id": "806e4c27",
   "metadata": {},
   "source": [
    "<h5>3.1.4 Relatório de classificação</h5>"
   ]
  },
  {
   "cell_type": "code",
   "execution_count": 112,
   "id": "bcf5c4ce",
   "metadata": {},
   "outputs": [
    {
     "name": "stdout",
     "output_type": "stream",
     "text": [
      "               precision    recall  f1-score   support\n",
      "\n",
      "Não há fraude   0.999203  0.999470  0.999336    228258\n",
      "    Há fraude   0.994419  0.991629  0.993022     21742\n",
      "\n",
      "     accuracy                       0.998788    250000\n",
      "    macro avg   0.996811  0.995550  0.996179    250000\n",
      " weighted avg   0.998787  0.998788  0.998787    250000\n",
      "\n"
     ]
    }
   ],
   "source": [
    "print(classification_report(y_test, y_test_best_pred, digits=6, target_names=['Não há fraude', 'Há fraude']))"
   ]
  },
  {
   "cell_type": "markdown",
   "id": "dcca5baf",
   "metadata": {},
   "source": [
    "<h4>3.2 Decision Tree Classifier</h4>"
   ]
  },
  {
   "cell_type": "markdown",
   "id": "ef87b325",
   "metadata": {},
   "source": [
    "- Algoritmos baseados em árvores de decisão geram modelos de alta precisão e são robustos em relação a outliers.\n",
    "\n",
    "- Eles funcionam de forma semelhante a um fluxograma, estabelecendo nós que se relacionam entre si por uma hierarquia. \n",
    "\n",
    "- Os nós-folha são os resultados finais e o nó-raiz é um dos atributos do dataset. Os nós são ligados entre regras \"se-então\", na qual o algoritmo se pergunta acerca de uma regra, uma condição que ditará o caminho a ser seguido na árvore, até chegar a um resultado final. \n",
    "\n",
    "- O algoritmo realiza cálculos que definem a posição de cada variável na árvore com base no ganho de informação e a entropia."
   ]
  },
  {
   "cell_type": "code",
   "execution_count": 84,
   "id": "b2c258d6",
   "metadata": {},
   "outputs": [],
   "source": [
    "decision_tree_model = DecisionTreeClassifier()\n",
    "decision_tree_model.fit(X_train, y_train)\n",
    "predictions = decision_tree_model.predict(X_test)"
   ]
  },
  {
   "cell_type": "code",
   "execution_count": 85,
   "id": "438292b2",
   "metadata": {},
   "outputs": [
    {
     "data": {
      "text/plain": [
       "0.999988"
      ]
     },
     "execution_count": 85,
     "metadata": {},
     "output_type": "execute_result"
    }
   ],
   "source": [
    "accuracy_score(y_test, predictions)"
   ]
  },
  {
   "cell_type": "markdown",
   "id": "07e5221f",
   "metadata": {},
   "source": [
    "A acurácia do modelo já apresenta um valor alto, mas a fim de explorar com mais profundidade os resultados, iremos analisar a matriz de confusão e o classification report."
   ]
  },
  {
   "cell_type": "code",
   "execution_count": 86,
   "id": "48bb95a7",
   "metadata": {},
   "outputs": [
    {
     "data": {
      "text/plain": [
       "array([[228257,      1],\n",
       "       [     2,  21740]], dtype=int64)"
      ]
     },
     "execution_count": 86,
     "metadata": {},
     "output_type": "execute_result"
    }
   ],
   "source": [
    "cm = confusion_matrix(y_test, predictions)\n",
    "cm"
   ]
  },
  {
   "cell_type": "code",
   "execution_count": 87,
   "id": "ed0cb60b",
   "metadata": {},
   "outputs": [
    {
     "data": {
      "image/png": "[encoded data removed]",
      "text/plain": [
       "<Figure size 432x288 with 2 Axes>"
      ]
     },
     "metadata": {
      "needs_background": "light"
     },
     "output_type": "display_data"
    }
   ],
   "source": [
    "groups = ['True Neg','False Pos','False Neg','True Pos']\n",
    "percentage_values = ['{0:.3%}'.format(value) for value in cm.flatten() / np.sum(cm)]\n",
    "\n",
    "labels = [f\"{a}\\n{b}\" for a, b in zip(groups, percentage_values)]\n",
    "labels = np.asarray(labels).reshape(2,2)\n",
    "\n",
    "sns.heatmap(cm, annot=labels, annot_kws={'fontsize':13}, fmt='');"
   ]
  },
  {
   "cell_type": "code",
   "execution_count": 88,
   "id": "b6fe28b7",
   "metadata": {},
   "outputs": [
    {
     "name": "stdout",
     "output_type": "stream",
     "text": [
      "               precision    recall  f1-score   support\n",
      "\n",
      "Não há fraude       1.00      1.00      1.00    228258\n",
      "    Há fraude       1.00      1.00      1.00     21742\n",
      "\n",
      "     accuracy                           1.00    250000\n",
      "    macro avg       1.00      1.00      1.00    250000\n",
      " weighted avg       1.00      1.00      1.00    250000\n",
      "\n"
     ]
    }
   ],
   "source": [
    "print(classification_report(y_test, predictions, target_names=['Não há fraude', 'Há fraude']))"
   ]
  },
  {
   "cell_type": "code",
   "execution_count": 89,
   "id": "55942616",
   "metadata": {},
   "outputs": [],
   "source": [
    "def generate_feature_importance(model, X, y):\n",
    "    return permutation_importance(model, X, y, n_repeats=10, random_state=0)\n",
    "\n",
    "def info_feature_importance(model, X_test, y_test):\n",
    "    feature_importance = generate_feature_importance(model, X_test, y_test)\n",
    "\n",
    "    column_names = X_test.columns\n",
    "    result = pd.Series(feature_importance.importances_mean, index=column_names)\n",
    "    print(result.sort_values(ascending=False))"
   ]
  },
  {
   "cell_type": "markdown",
   "id": "84bbe44a",
   "metadata": {},
   "source": [
    "Analisando a importância de cada feature, podemos observar que nenhuma feature está impactando negativamente o modelo e que a variável \"ratio_to_median_purchase_price\", que determina a razão entre a transação mediana e a atual, é a que mais tem influência sob o modelo, seguida da informação de se a transação foi online e a distância da casa do dono do cartão.\n",
    "\n",
    "A partir disso, podemos concluir que valores de compras muito diferentes do usual têm mais chances de indicar uma fraude, principalmente se essa compra for online ou de uma localização muito distante de onde o comprador mora."
   ]
  },
  {
   "cell_type": "code",
   "execution_count": 90,
   "id": "e8a19f47",
   "metadata": {},
   "outputs": [
    {
     "name": "stdout",
     "output_type": "stream",
     "text": [
      "ratio_to_median_purchase_price    0.111727\n",
      "online_order                      0.051678\n",
      "distance_from_home                0.036174\n",
      "used_pin_number                   0.017146\n",
      "used_chip                         0.016556\n",
      "distance_from_last_transaction    0.011571\n",
      "repeat_retailer                   0.004222\n",
      "dtype: float64\n"
     ]
    }
   ],
   "source": [
    "info_feature_importance(decision_tree_model, X_test, y_test)"
   ]
  },
  {
   "cell_type": "markdown",
   "id": "f9c3651b",
   "metadata": {},
   "source": [
    "Por fim, analisaremos uma representação gráfica da árvore de decisão gerada com os dados do dataset, a fim de validar as conclusões obtidas."
   ]
  },
  {
   "cell_type": "code",
   "execution_count": 91,
   "id": "a431fb34",
   "metadata": {},
   "outputs": [
    {
     "data": {
      "image/png": "[encoded data removed]",
      "text/plain": [
       "<Figure size 1440x720 with 1 Axes>"
      ]
     },
     "metadata": {
      "needs_background": "light"
     },
     "output_type": "display_data"
    }
   ],
   "source": [
    "fig = plt.figure(figsize=(20, 10))\n",
    "\n",
    "plot_tree(decision_tree_model, \n",
    "            filled=True,\n",
    "            feature_names=X.columns,\n",
    "            class_names=['Não há fraude', 'Há fraude'])\n",
    "plt.show()"
   ]
  },
  {
   "cell_type": "markdown",
   "id": "dc3c07c4",
   "metadata": {},
   "source": [
    "A raiz recebe o dataset completo e faz uma pergunta de verdadeiro ou falso. Essa pergunta divide o dataset pelos próximos dois nós. A parcela dos dados que responder a pergunta de forma negativa vai para o nó da direita e o restante (positivo) vai para o nó da esquerda. Esse processo se repete até o final da árvore.\n",
    "\n",
    "A visualização da representação da árvore confirma as conclusões obtidas anteriormente.\n",
    "\n",
    "Maiores variações nos valores de transação, compras online e maiores distâncias de casa são os fatores que mais indicam fraudes. "
   ]
  },
  {
   "cell_type": "markdown",
   "id": "d4130e8d",
   "metadata": {},
   "source": [
    "<h4>3.3 Naive Bayes</h4>"
   ]
  },
  {
   "cell_type": "markdown",
   "id": "8e17c7a5",
   "metadata": {},
   "source": [
    "- Naive Bayes é um algoritmo de classificação, baseado no \"teorema de Bayes\" que usa como conceito a probabilidade.\n",
    "\n",
    "- Leva como premissa a suposição de independência entre as variáveis, isso explica o motivo de receber Naive (ingênuo). Porém, é um algoritmo muito rápido e usado em diversas aplicações.\n",
    "\n",
    "- Suas principais aplicações são para análise de crédito, detecção de SPAM, diagnósticos médicos ou busca por falhas em sistemas mecânicos."
   ]
  },
  {
   "cell_type": "code",
   "execution_count": 92,
   "id": "aa1cbdf8",
   "metadata": {},
   "outputs": [
    {
     "data": {
      "text/plain": [
       "0.0    912597\n",
       "1.0     87403\n",
       "Name: fraud, dtype: int64"
      ]
     },
     "execution_count": 92,
     "metadata": {},
     "output_type": "execute_result"
    }
   ],
   "source": [
    "df.fraud.value_counts()"
   ]
  },
  {
   "cell_type": "code",
   "execution_count": 93,
   "id": "30e0305f",
   "metadata": {},
   "outputs": [],
   "source": [
    "# Matriz de variáveis explicativas\n",
    "X = df.drop(['fraud'], axis =1)\n",
    "# Variável target\n",
    "Y = df['fraud']"
   ]
  },
  {
   "cell_type": "code",
   "execution_count": 94,
   "id": "495d171a",
   "metadata": {},
   "outputs": [
    {
     "name": "stdout",
     "output_type": "stream",
     "text": [
      "(700000, 7)\n",
      "(300000, 7)\n",
      "(700000,)\n",
      "(300000,)\n"
     ]
    }
   ],
   "source": [
    "X_train, X_test, Y_train, Y_test = train_test_split(X, Y, test_size = 0.3, random_state = 1237)\n",
    "\n",
    "print(X_train.shape)\n",
    "print(X_test.shape)\n",
    "print(Y_train.shape)\n",
    "print(Y_test.shape)"
   ]
  },
  {
   "cell_type": "code",
   "execution_count": 95,
   "id": "da77e96e",
   "metadata": {},
   "outputs": [
    {
     "data": {
      "text/html": [
       "<style>#sk-container-id-1 {color: black;background-color: white;}#sk-container-id-1 pre{padding: 0;}#sk-container-id-1 div.sk-toggleable {background-color: white;}#sk-container-id-1 label.sk-toggleable__label {cursor: pointer;display: block;width: 100%;margin-bottom: 0;padding: 0.3em;box-sizing: border-box;text-align: center;}#sk-container-id-1 label.sk-toggleable__label-arrow:before {content: \"▸\";float: left;margin-right: 0.25em;color: #696969;}#sk-container-id-1 label.sk-toggleable__label-arrow:hover:before {color: black;}#sk-container-id-1 div.sk-estimator:hover label.sk-toggleable__label-arrow:before {color: black;}#sk-container-id-1 div.sk-toggleable__content {max-height: 0;max-width: 0;overflow: hidden;text-align: left;background-color: #f0f8ff;}#sk-container-id-1 div.sk-toggleable__content pre {margin: 0.2em;color: black;border-radius: 0.25em;background-color: #f0f8ff;}#sk-container-id-1 input.sk-toggleable__control:checked~div.sk-toggleable__content {max-height: 200px;max-width: 100%;overflow: auto;}#sk-container-id-1 input.sk-toggleable__control:checked~label.sk-toggleable__label-arrow:before {content: \"▾\";}#sk-container-id-1 div.sk-estimator input.sk-toggleable__control:checked~label.sk-toggleable__label {background-color: #d4ebff;}#sk-container-id-1 div.sk-label input.sk-toggleable__control:checked~label.sk-toggleable__label {background-color: #d4ebff;}#sk-container-id-1 input.sk-hidden--visually {border: 0;clip: rect(1px 1px 1px 1px);clip: rect(1px, 1px, 1px, 1px);height: 1px;margin: -1px;overflow: hidden;padding: 0;position: absolute;width: 1px;}#sk-container-id-1 div.sk-estimator {font-family: monospace;background-color: #f0f8ff;border: 1px dotted black;border-radius: 0.25em;box-sizing: border-box;margin-bottom: 0.5em;}#sk-container-id-1 div.sk-estimator:hover {background-color: #d4ebff;}#sk-container-id-1 div.sk-parallel-item::after {content: \"\";width: 100%;border-bottom: 1px solid gray;flex-grow: 1;}#sk-container-id-1 div.sk-label:hover label.sk-toggleable__label {background-color: #d4ebff;}#sk-container-id-1 div.sk-serial::before {content: \"\";position: absolute;border-left: 1px solid gray;box-sizing: border-box;top: 0;bottom: 0;left: 50%;z-index: 0;}#sk-container-id-1 div.sk-serial {display: flex;flex-direction: column;align-items: center;background-color: white;padding-right: 0.2em;padding-left: 0.2em;position: relative;}#sk-container-id-1 div.sk-item {position: relative;z-index: 1;}#sk-container-id-1 div.sk-parallel {display: flex;align-items: stretch;justify-content: center;background-color: white;position: relative;}#sk-container-id-1 div.sk-item::before, #sk-container-id-1 div.sk-parallel-item::before {content: \"\";position: absolute;border-left: 1px solid gray;box-sizing: border-box;top: 0;bottom: 0;left: 50%;z-index: -1;}#sk-container-id-1 div.sk-parallel-item {display: flex;flex-direction: column;z-index: 1;position: relative;background-color: white;}#sk-container-id-1 div.sk-parallel-item:first-child::after {align-self: flex-end;width: 50%;}#sk-container-id-1 div.sk-parallel-item:last-child::after {align-self: flex-start;width: 50%;}#sk-container-id-1 div.sk-parallel-item:only-child::after {width: 0;}#sk-container-id-1 div.sk-dashed-wrapped {border: 1px dashed gray;margin: 0 0.4em 0.5em 0.4em;box-sizing: border-box;padding-bottom: 0.4em;background-color: white;}#sk-container-id-1 div.sk-label label {font-family: monospace;font-weight: bold;display: inline-block;line-height: 1.2em;}#sk-container-id-1 div.sk-label-container {text-align: center;}#sk-container-id-1 div.sk-container {/* jupyter's `normalize.less` sets `[hidden] { display: none; }` but bootstrap.min.css set `[hidden] { display: none !important; }` so we also need the `!important` here to be able to override the default hidden behavior on the sphinx rendered scikit-learn.org. See: https://github.com/scikit-learn/scikit-learn/issues/21755 */display: inline-block !important;position: relative;}#sk-container-id-1 div.sk-text-repr-fallback {display: none;}</style><div id=\"sk-container-id-1\" class=\"sk-top-container\"><div class=\"sk-text-repr-fallback\"><pre>BernoulliNB()</pre><b>In a Jupyter environment, please rerun this cell to show the HTML representation or trust the notebook. <br />On GitHub, the HTML representation is unable to render, please try loading this page with nbviewer.org.</b></div><div class=\"sk-container\" hidden><div class=\"sk-item\"><div class=\"sk-estimator sk-toggleable\"><input class=\"sk-toggleable__control sk-hidden--visually\" id=\"sk-estimator-id-1\" type=\"checkbox\" checked><label for=\"sk-estimator-id-1\" class=\"sk-toggleable__label sk-toggleable__label-arrow\">BernoulliNB</label><div class=\"sk-toggleable__content\"><pre>BernoulliNB()</pre></div></div></div></div></div>"
      ],
      "text/plain": [
       "BernoulliNB()"
      ]
     },
     "execution_count": 95,
     "metadata": {},
     "output_type": "execute_result"
    }
   ],
   "source": [
    "gnb = GaussianNB()\n",
    "multi = MultinomialNB()\n",
    "bern = BernoulliNB()\n",
    "\n",
    "gnb.fit(X_train, Y_train)\n",
    "multi.fit(X_train, Y_train)\n",
    "bern.fit(X_train, Y_train)"
   ]
  },
  {
   "cell_type": "markdown",
   "id": "1a0d6e63",
   "metadata": {},
   "source": [
    "- Gaussian Naive Bayes: é o método indicado para quando as variáveis independentes são contínuas e têm distribuição normal. Um exemplo seria tentar prever o risco de uma pessoa portar uma doença a partir de vários indicadores sanguíneos."
   ]
  },
  {
   "cell_type": "code",
   "execution_count": 96,
   "id": "a9d8795e",
   "metadata": {},
   "outputs": [
    {
     "data": {
      "text/plain": [
       "0.9508"
      ]
     },
     "execution_count": 96,
     "metadata": {},
     "output_type": "execute_result"
    }
   ],
   "source": [
    "gnb.score(X_test, Y_test)"
   ]
  },
  {
   "cell_type": "markdown",
   "id": "51bf4261",
   "metadata": {},
   "source": [
    "- Multinominal Naive Bayes: as variáveis independentes também são discretas, mas agora são multinominais, o que significa que elas têm mais de um valor possível, como os possíveis resultados de uma jogada de dado. Pense em prever o grau de risco de crédito com base no estado civil das pessoas, que pode ter várias categorias: solteiro, casado, divorciado, viúvo."
   ]
  },
  {
   "cell_type": "code",
   "execution_count": 97,
   "id": "182d5ad3",
   "metadata": {},
   "outputs": [
    {
     "data": {
      "text/plain": [
       "0.91941"
      ]
     },
     "execution_count": 97,
     "metadata": {},
     "output_type": "execute_result"
    }
   ],
   "source": [
    "multi.score(X_test, Y_test)"
   ]
  },
  {
   "cell_type": "markdown",
   "id": "93cc3c46",
   "metadata": {},
   "source": [
    "- Bernoulli Naive Bayes: usado quando as variáveis independentes são discretas, mas apenas dois valores são possíveis, como os possíveis resultados de jogar uma moeda. Um exemplo seria tentar prever o grau com que uma pessoa vai gostar de um filme com base no seu sexo."
   ]
  },
  {
   "cell_type": "code",
   "execution_count": 98,
   "id": "36eb033c",
   "metadata": {},
   "outputs": [
    {
     "data": {
      "text/plain": [
       "0.9126766666666667"
      ]
     },
     "execution_count": 98,
     "metadata": {},
     "output_type": "execute_result"
    }
   ],
   "source": [
    "bern.score(X_test, Y_test)"
   ]
  },
  {
   "cell_type": "markdown",
   "id": "f016aebc",
   "metadata": {},
   "source": [
    " - Testamos os três tipos de modelo do Naive Bayes e o que possui maior acurácia é o Gaussian, chegando em um percentual de 95%. "
   ]
  },
  {
   "cell_type": "code",
   "execution_count": 99,
   "id": "908b4c9c",
   "metadata": {},
   "outputs": [
    {
     "ename": "NameError",
     "evalue": "name 'conf_mat' is not defined",
     "output_type": "error",
     "traceback": [
      "\u001b[1;31m---------------------------------------------------------------------------\u001b[0m",
      "\u001b[1;31mNameError\u001b[0m                                 Traceback (most recent call last)",
      "\u001b[1;32mc:\\Users\\l.beirao.de.souza\\Documents\\digitalhouse\\credit_card_fraud\\credit_card.ipynb Célula: 80\u001b[0m in \u001b[0;36m<cell line: 1>\u001b[1;34m()\u001b[0m\n\u001b[1;32m----> <a href='vscode-notebook-cell:/c%3A/Users/l.beirao.de.souza/Documents/digitalhouse/credit_card_fraud/credit_card.ipynb#ch0000048?line=0'>1</a>\u001b[0m conf_mat_df \u001b[39m=\u001b[39m pd\u001b[39m.\u001b[39mDataFrame(data \u001b[39m=\u001b[39m conf_mat, \n\u001b[0;32m      <a href='vscode-notebook-cell:/c%3A/Users/l.beirao.de.souza/Documents/digitalhouse/credit_card_fraud/credit_card.ipynb#ch0000048?line=1'>2</a>\u001b[0m                            index \u001b[39m=\u001b[39m [\u001b[39m'\u001b[39m\u001b[39mActual Negative: 0\u001b[39m\u001b[39m'\u001b[39m, \u001b[39m'\u001b[39m\u001b[39mActual Positive: 1\u001b[39m\u001b[39m'\u001b[39m], \n\u001b[0;32m      <a href='vscode-notebook-cell:/c%3A/Users/l.beirao.de.souza/Documents/digitalhouse/credit_card_fraud/credit_card.ipynb#ch0000048?line=2'>3</a>\u001b[0m                            columns \u001b[39m=\u001b[39m [\u001b[39m'\u001b[39m\u001b[39mPredict Negative: 0\u001b[39m\u001b[39m'\u001b[39m, \u001b[39m'\u001b[39m\u001b[39mPredict Positive: 1\u001b[39m\u001b[39m'\u001b[39m]\n\u001b[0;32m      <a href='vscode-notebook-cell:/c%3A/Users/l.beirao.de.souza/Documents/digitalhouse/credit_card_fraud/credit_card.ipynb#ch0000048?line=3'>4</a>\u001b[0m                           )\n\u001b[0;32m      <a href='vscode-notebook-cell:/c%3A/Users/l.beirao.de.souza/Documents/digitalhouse/credit_card_fraud/credit_card.ipynb#ch0000048?line=5'>6</a>\u001b[0m sns\u001b[39m.\u001b[39mheatmap(conf_mat_df, \n\u001b[0;32m      <a href='vscode-notebook-cell:/c%3A/Users/l.beirao.de.souza/Documents/digitalhouse/credit_card_fraud/credit_card.ipynb#ch0000048?line=6'>7</a>\u001b[0m             annot \u001b[39m=\u001b[39m \u001b[39mTrue\u001b[39;00m, \n\u001b[0;32m      <a href='vscode-notebook-cell:/c%3A/Users/l.beirao.de.souza/Documents/digitalhouse/credit_card_fraud/credit_card.ipynb#ch0000048?line=7'>8</a>\u001b[0m             fmt \u001b[39m=\u001b[39m \u001b[39m'\u001b[39m\u001b[39md\u001b[39m\u001b[39m'\u001b[39m, \n\u001b[0;32m      <a href='vscode-notebook-cell:/c%3A/Users/l.beirao.de.souza/Documents/digitalhouse/credit_card_fraud/credit_card.ipynb#ch0000048?line=8'>9</a>\u001b[0m             cmap \u001b[39m=\u001b[39m \u001b[39m'\u001b[39m\u001b[39mYlGnBu\u001b[39m\u001b[39m'\u001b[39m\n\u001b[0;32m     <a href='vscode-notebook-cell:/c%3A/Users/l.beirao.de.souza/Documents/digitalhouse/credit_card_fraud/credit_card.ipynb#ch0000048?line=9'>10</a>\u001b[0m            );\n\u001b[0;32m     <a href='vscode-notebook-cell:/c%3A/Users/l.beirao.de.souza/Documents/digitalhouse/credit_card_fraud/credit_card.ipynb#ch0000048?line=11'>12</a>\u001b[0m conf_mat \u001b[39m=\u001b[39m confusion_matrix(Y_test, Y_pred)\n",
      "\u001b[1;31mNameError\u001b[0m: name 'conf_mat' is not defined"
     ]
    }
   ],
   "source": [
    "conf_mat_df = pd.DataFrame(data = conf_mat, \n",
    "                           index = ['Actual Negative: 0', 'Actual Positive: 1'], \n",
    "                           columns = ['Predict Negative: 0', 'Predict Positive: 1']\n",
    "                          )\n",
    "\n",
    "sns.heatmap(conf_mat_df, \n",
    "            annot = True, \n",
    "            fmt = 'd', \n",
    "            cmap = 'YlGnBu'\n",
    "           );\n",
    "\n",
    "conf_mat = confusion_matrix(Y_test, Y_pred)\n",
    "\n",
    "print('Confusion matrix\\n\\n', conf_mat)\n",
    "\n",
    "print('\\nTrue Positives(TP) = ', conf_mat[1,1])\n",
    "\n",
    "print('\\nTrue Negatives(TN) = ', conf_mat[0,0])\n",
    "\n",
    "print('\\nFalse Positives(FP) = ', conf_mat[0,1])\n",
    "\n",
    "print('\\nFalse Negatives(FN) = ', conf_mat[1,0])"
   ]
  },
  {
   "cell_type": "code",
   "execution_count": null,
   "id": "c0b26e6f",
   "metadata": {},
   "outputs": [],
   "source": []
  }
 ],
 "metadata": {
  "kernelspec": {
   "display_name": "Python 3.10.2 ('venv': venv)",
   "language": "python",
   "name": "python3"
  },
  "language_info": {
   "codemirror_mode": {
    "name": "ipython",
    "version": 3
   },
   "file_extension": ".py",
   "mimetype": "text/x-python",
   "name": "python",
   "nbconvert_exporter": "python",
   "pygments_lexer": "ipython3",
   "version": "3.10.2"
  },
  "vscode": {
   "interpreter": {
    "hash": "19565f89111d100200505eb742382f79c4aec72d627109989aa360e44cabd1e9"
   }
  }
 },
 "nbformat": 4,
 "nbformat_minor": 5
}
